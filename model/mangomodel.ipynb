{
 "cells": [
  {
   "cell_type": "code",
   "execution_count": 97,
   "metadata": {},
   "outputs": [],
   "source": [
    "import matplotlib.pyplot as plt\n",
    "import numpy as np\n",
    "import pandas as pd\n",
    "import seaborn as sns\n",
    "\n",
    "from IPython import get_ipython\n",
    "from keras.preprocessing import image\n",
    "from keras.applications.resnet50 import ResNet50, preprocess_input\n",
    "import os\n",
    "\n",
    "from sklearn.preprocessing import OneHotEncoder\n",
    "from sklearn.model_selection import train_test_split\n",
    "import torch\n",
    "from torch import nn\n",
    "import torch.optim as optim\n",
    "import missingno as msno"
   ]
  },
  {
   "cell_type": "markdown",
   "metadata": {},
   "source": [
    "**Understanding the data**"
   ]
  },
  {
   "cell_type": "code",
   "execution_count": null,
   "metadata": {},
   "outputs": [],
   "source": [
    "df = pd.read_csv(\"../datathon/dataset/product_data.csv\")\n",
    "outfit_data = pd.read_csv(\"../datathon/dataset/outfit_data.csv\")\n",
    "print(df.head(), outfit_data.head())"
   ]
  },
  {
   "cell_type": "code",
   "execution_count": null,
   "metadata": {},
   "outputs": [],
   "source": [
    "df.describe()"
   ]
  },
  {
   "cell_type": "code",
   "execution_count": null,
   "metadata": {},
   "outputs": [],
   "source": [
    "df.info()"
   ]
  },
  {
   "cell_type": "markdown",
   "metadata": {},
   "source": [
    "**Preprocessing Data**"
   ]
  },
  {
   "cell_type": "code",
   "execution_count": null,
   "metadata": {},
   "outputs": [],
   "source": [
    "# Creating new feature that is a list showcasing what outfits does each product appear in\n",
    "outfits_agrupados = outfit_data.groupby('cod_modelo_color')['cod_outfit'].apply(list).reset_index()\n",
    "outfits_agrupados.head()\n",
    "df = pd.merge(df, outfits_agrupados, on='cod_modelo_color', how='left')\n",
    "df.head()\n"
   ]
  },
  {
   "cell_type": "code",
   "execution_count": null,
   "metadata": {},
   "outputs": [],
   "source": [
    "# save\n",
    "df.isna().sum()\n",
    "\n"
   ]
  },
  {
   "cell_type": "code",
   "execution_count": null,
   "metadata": {},
   "outputs": [],
   "source": [
    "msno.bar(df)"
   ]
  },
  {
   "cell_type": "code",
   "execution_count": null,
   "metadata": {},
   "outputs": [],
   "source": [
    "df.isna().sum()\n"
   ]
  },
  {
   "cell_type": "code",
   "execution_count": null,
   "metadata": {},
   "outputs": [],
   "source": [
    "msno.bar(df)\n"
   ]
  },
  {
   "cell_type": "code",
   "execution_count": 106,
   "metadata": {},
   "outputs": [],
   "source": [
    "categorical_columns = [\"cod_color_code\",\"des_color_specification_esp\",\"des_agrup_color_eng\",\"des_sex\",\"des_age\",\"des_line\",\"des_fabric\",\"des_product_category\",\"des_product_aggregated_family\",\"des_product_family\",\"des_product_type\"]\n",
    "\n",
    "for column in categorical_columns:\n",
    "    df[column] = df[column].astype('category')"
   ]
  },
  {
   "cell_type": "code",
   "execution_count": null,
   "metadata": {},
   "outputs": [],
   "source": [
    "# contamos cuantos valores unicos hay en cada columna\n",
    "for x in categorical_columns:\n",
    "    print(df[x].nunique())\n"
   ]
  },
  {
   "cell_type": "markdown",
   "metadata": {},
   "source": [
    "Podemos ver que existen un cojon de categorias"
   ]
  },
  {
   "cell_type": "code",
   "execution_count": null,
   "metadata": {},
   "outputs": [],
   "source": [
    "plt.figure(figsize=(20, 15))\n",
    "plotnumber = 1\n",
    "\n",
    "for column in df:\n",
    "    if plotnumber <= 12 and pd.api.types.is_categorical_dtype(df[column]):\n",
    "        ax = plt.subplot(3, 4, plotnumber)\n",
    "        sns.countplot(x=df[column])\n",
    "        plt.xlabel(column)\n",
    "        plt.xticks(rotation=45)\n",
    "        plotnumber += 1\n",
    "\n",
    "plt.tight_layout()\n",
    "plt.show()\n"
   ]
  },
  {
   "cell_type": "code",
   "execution_count": null,
   "metadata": {},
   "outputs": [],
   "source": [
    "# Step 1: Initialize ResNet50 (pre-trained on ImageNet, remove the final classification layer)\n",
    "# Load the pre-trained ResNet model with locally saved weights\n",
    "resnet_model = ResNet50(weights='../model/resnet50_weights_tf_dim_ordering_tf_kernels_notop.h5', include_top=False, pooling='avg')\n",
    "\n",
    "# Step 2: Define function to process each image\n",
    "def process_image(img_path):\n",
    "    img = image.load_img(img_path, target_size=(239, 334))  # ResNet50 expects 224x224 input\n",
    "    img_data = image.img_to_array(img)                      # Convert to array\n",
    "    img_data = np.expand_dims(img_data, axis=0)             # Expand dimensions to match model input\n",
    "    img_data = preprocess_input(img_data)                   # Preprocess (scale, normalize, etc.)\n",
    "    return img_data\n",
    "\n",
    "# Step 3: Define function to extract image embeddings\n",
    "def extract_image_embedding(img_path):\n",
    "    img_data = process_image(img_path)\n",
    "    embedding = resnet_model.predict(img_data)  # Pass image through the pre-trained ResNet\n",
    "    return embedding.flatten()                  # Flatten the output to get the feature vector\n",
    "\n",
    "# Step 4: Load image paths and extract embeddings\n",
    "image_folder = '/datathon/images'\n",
    "image_embeddings = []\n",
    "\n",
    "# Iterate through all image filenames in the dataset\n",
    "\n",
    "for img_filename in df['des_filename']:\n",
    "    img_path = os.path.join(image_folder, img_filename)\n",
    "    embedding = extract_image_embedding(img_path)\n",
    "    image_embeddings.append(embedding)\n",
    "\n",
    "# Convert list of embeddings into a NumPy array\n",
    "image_embeddings = np.array(image_embeddings)"
   ]
  },
  {
   "cell_type": "code",
   "execution_count": null,
   "metadata": {},
   "outputs": [],
   "source": [
    "print('hey')"
   ]
  },
  {
   "cell_type": "code",
   "execution_count": null,
   "metadata": {},
   "outputs": [],
   "source": [
    "\n",
    "def guardar_outputs(archivo_salida, caracter_inicial):\n",
    "    # Obtener el historial del entorno de ejecución\n",
    "    ipython_historial = get_ipython().history_manager\n",
    "    outputs = get_ipython().user_ns['Out']\n",
    "    \n",
    "    # Abrir el archivo donde se guardarán los outputs\n",
    "    with open(archivo_salida, 'w') as f:\n",
    "        for cell_number, output in outputs.items():\n",
    "            # Verificar si el número de celda empieza con el caracter especificado\n",
    "            if str(cell_number).startswith(caracter_inicial):\n",
    "                f.write(f\"Output de la celda [{cell_number}]:\\n\")\n",
    "                f.write(str(output))\n",
    "                f.write(\"\\n\" + \"=\"*50 + \"\\n\")\n",
    "    \n",
    "    print(f\"Outputs guardados en {archivo_salida}\")\n",
    "\n",
    "# Llamada a la función\n",
    "guardar_outputs(\"outputs_notebook.txt\",\"# save\")"
   ]
  }
 ],
 "metadata": {
  "kernelspec": {
   "display_name": "Python 3",
   "language": "python",
   "name": "python3"
  },
  "language_info": {
   "codemirror_mode": {
    "name": "ipython",
    "version": 3
   },
   "file_extension": ".py",
   "mimetype": "text/x-python",
   "name": "python",
   "nbconvert_exporter": "python",
   "pygments_lexer": "ipython3",
   "version": "3.10.11"
  }
 },
 "nbformat": 4,
 "nbformat_minor": 2
}
